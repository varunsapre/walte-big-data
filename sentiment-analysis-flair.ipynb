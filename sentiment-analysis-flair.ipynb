{
  "nbformat": 4,
  "nbformat_minor": 0,
  "metadata": {
    "colab": {
      "name": "flair.ipynb",
      "provenance": [],
      "collapsed_sections": [],
      "mount_file_id": "1chY5Pzzo1m49p3z8Skisr_yQe0sscvTt",
      "authorship_tag": "ABX9TyPXQNX6qahlc+M+jtXrAlus"
    },
    "kernelspec": {
      "name": "python3",
      "display_name": "Python 3"
    },
    "language_info": {
      "name": "python"
    }
  },
  "cells": [
    {
      "cell_type": "code",
      "metadata": {
        "id": "K55nRST1jYdy"
      },
      "source": [
        "!pip install flair"
      ],
      "execution_count": null,
      "outputs": []
    },
    {
      "cell_type": "code",
      "source": [
        "from google.colab import drive\n",
        "drive.mount('/content/data')"
      ],
      "metadata": {
        "colab": {
          "base_uri": "https://localhost:8080/"
        },
        "id": "8_TbIMG6vikn",
        "outputId": "30d2b07a-0a24-43ed-e44a-c5dc0072fd53"
      },
      "execution_count": null,
      "outputs": [
        {
          "output_type": "stream",
          "name": "stdout",
          "text": [
            "Mounted at /content/data\n"
          ]
        }
      ]
    },
    {
      "cell_type": "code",
      "source": [
        "import pandas as pd\n",
        "from flair.models import TextClassifier\n",
        "from flair.data import Sentence\n",
        "sia = TextClassifier.load('en-sentiment')"
      ],
      "metadata": {
        "id": "objPY3Uzv8ND"
      },
      "execution_count": null,
      "outputs": []
    },
    {
      "cell_type": "code",
      "source": [
        "def flair_prediction(x):\n",
        "    sentence = Sentence(x)\n",
        "    sia.predict(sentence)\n",
        "    score = sentence.labels[0]\n",
        "    return [score.value, score.score]"
      ],
      "metadata": {
        "id": "21_mMgbMwFej"
      },
      "execution_count": null,
      "outputs": []
    },
    {
      "cell_type": "code",
      "source": [
        "data = pd.read_csv(\"/content/data/MyDrive/bdm-data/twint.csv\")"
      ],
      "metadata": {
        "id": "gTJ51IVSw401"
      },
      "execution_count": null,
      "outputs": []
    },
    {
      "cell_type": "code",
      "source": [
        "data"
      ],
      "metadata": {
        "colab": {
          "base_uri": "https://localhost:8080/",
          "height": 143
        },
        "id": "WIQGbxtvxT_5",
        "outputId": "7271d538-f303-4af0-9a62-7f28df1f717d"
      },
      "execution_count": null,
      "outputs": [
        {
          "output_type": "execute_result",
          "data": {
            "text/html": [
              "<div>\n",
              "<style scoped>\n",
              "    .dataframe tbody tr th:only-of-type {\n",
              "        vertical-align: middle;\n",
              "    }\n",
              "\n",
              "    .dataframe tbody tr th {\n",
              "        vertical-align: top;\n",
              "    }\n",
              "\n",
              "    .dataframe thead th {\n",
              "        text-align: right;\n",
              "    }\n",
              "</style>\n",
              "<table border=\"1\" class=\"dataframe\">\n",
              "  <thead>\n",
              "    <tr style=\"text-align: right;\">\n",
              "      <th></th>\n",
              "      <th>id</th>\n",
              "      <th>tweet</th>\n",
              "    </tr>\n",
              "  </thead>\n",
              "  <tbody>\n",
              "    <tr>\n",
              "      <th>0</th>\n",
              "      <td>1469109907727306753</td>\n",
              "      <td>El cat party that I am early for dinner and dr...</td>\n",
              "    </tr>\n",
              "    <tr>\n",
              "      <th>1</th>\n",
              "      <td>1466985619461128198</td>\n",
              "      <td>Drinking a Slow Chill Dunkel by @oskarblues @ ...</td>\n",
              "    </tr>\n",
              "    <tr>\n",
              "      <th>2</th>\n",
              "      <td>1466984867221188614</td>\n",
              "      <td>Drinking a Bionic Cowboy High Tech IPA (Hop Fo...</td>\n",
              "    </tr>\n",
              "  </tbody>\n",
              "</table>\n",
              "</div>"
            ],
            "text/plain": [
              "                    id                                              tweet\n",
              "0  1469109907727306753  El cat party that I am early for dinner and dr...\n",
              "1  1466985619461128198  Drinking a Slow Chill Dunkel by @oskarblues @ ...\n",
              "2  1466984867221188614  Drinking a Bionic Cowboy High Tech IPA (Hop Fo..."
            ]
          },
          "metadata": {},
          "execution_count": 16
        }
      ]
    },
    {
      "cell_type": "code",
      "source": [
        "data[\"sentiment\"] = data[\"tweet\"].apply(flair_prediction)"
      ],
      "metadata": {
        "id": "YgSGlo6bxGJx"
      },
      "execution_count": null,
      "outputs": []
    },
    {
      "cell_type": "code",
      "source": [
        "data"
      ],
      "metadata": {
        "colab": {
          "base_uri": "https://localhost:8080/",
          "height": 143
        },
        "id": "1g1___BAxWRY",
        "outputId": "4f8ebcf5-aafb-4166-9b94-a10d13fefc0d"
      },
      "execution_count": null,
      "outputs": [
        {
          "output_type": "execute_result",
          "data": {
            "text/html": [
              "<div>\n",
              "<style scoped>\n",
              "    .dataframe tbody tr th:only-of-type {\n",
              "        vertical-align: middle;\n",
              "    }\n",
              "\n",
              "    .dataframe tbody tr th {\n",
              "        vertical-align: top;\n",
              "    }\n",
              "\n",
              "    .dataframe thead th {\n",
              "        text-align: right;\n",
              "    }\n",
              "</style>\n",
              "<table border=\"1\" class=\"dataframe\">\n",
              "  <thead>\n",
              "    <tr style=\"text-align: right;\">\n",
              "      <th></th>\n",
              "      <th>id</th>\n",
              "      <th>tweet</th>\n",
              "      <th>sentiment</th>\n",
              "    </tr>\n",
              "  </thead>\n",
              "  <tbody>\n",
              "    <tr>\n",
              "      <th>0</th>\n",
              "      <td>1469109907727306753</td>\n",
              "      <td>El cat party that I am early for dinner and dr...</td>\n",
              "      <td>[POSITIVE, 0.8735111355781555]</td>\n",
              "    </tr>\n",
              "    <tr>\n",
              "      <th>1</th>\n",
              "      <td>1466985619461128198</td>\n",
              "      <td>Drinking a Slow Chill Dunkel by @oskarblues @ ...</td>\n",
              "      <td>[POSITIVE, 0.5032517313957214]</td>\n",
              "    </tr>\n",
              "    <tr>\n",
              "      <th>2</th>\n",
              "      <td>1466984867221188614</td>\n",
              "      <td>Drinking a Bionic Cowboy High Tech IPA (Hop Fo...</td>\n",
              "      <td>[NEGATIVE, 0.6894104480743408]</td>\n",
              "    </tr>\n",
              "  </tbody>\n",
              "</table>\n",
              "</div>"
            ],
            "text/plain": [
              "                    id  ...                       sentiment\n",
              "0  1469109907727306753  ...  [POSITIVE, 0.8735111355781555]\n",
              "1  1466985619461128198  ...  [POSITIVE, 0.5032517313957214]\n",
              "2  1466984867221188614  ...  [NEGATIVE, 0.6894104480743408]\n",
              "\n",
              "[3 rows x 3 columns]"
            ]
          },
          "metadata": {},
          "execution_count": 18
        }
      ]
    }
  ]
}